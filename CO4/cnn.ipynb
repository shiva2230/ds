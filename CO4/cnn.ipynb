{
 "cells": [
  {
   "cell_type": "code",
   "execution_count": 2,
   "metadata": {},
   "outputs": [
    {
     "name": "stdout",
     "output_type": "stream",
     "text": [
      "Downloading data from https://storage.googleapis.com/tensorflow/tf-keras-datasets/mnist.npz\n",
      "11490434/11490434 [==============================] - 3s 0us/step\n",
      "Epoch 1/5\n",
      "938/938 [==============================] - 10s 10ms/step - loss: 0.2730 - accuracy: 0.9188 - val_loss: 0.1104 - val_accuracy: 0.9682\n",
      "Epoch 2/5\n",
      "938/938 [==============================] - 9s 10ms/step - loss: 0.0940 - accuracy: 0.9716 - val_loss: 0.0721 - val_accuracy: 0.9772\n",
      "Epoch 3/5\n",
      "938/938 [==============================] - 9s 10ms/step - loss: 0.0633 - accuracy: 0.9803 - val_loss: 0.0652 - val_accuracy: 0.9782\n",
      "Epoch 4/5\n",
      "938/938 [==============================] - 9s 10ms/step - loss: 0.0486 - accuracy: 0.9848 - val_loss: 0.0533 - val_accuracy: 0.9824\n",
      "Epoch 5/5\n",
      "938/938 [==============================] - 9s 10ms/step - loss: 0.0378 - accuracy: 0.9885 - val_loss: 0.0535 - val_accuracy: 0.9831\n",
      "313/313 [==============================] - 1s 4ms/step - loss: 0.0535 - accuracy: 0.9831\n",
      "Test accuracy: 0.9830999970436096\n"
     ]
    }
   ],
   "source": [
    "import tensorflow as tf\n",
    "from tensorflow.keras import layers, models\n",
    "\n",
    "# Load and preprocess the MNIST dataset\n",
    "mnist = tf.keras.datasets.mnist\n",
    "(train_images, train_labels), (test_images, test_labels) = mnist.load_data()\n",
    "\n",
    "# Reshape and normalize the images\n",
    "train_images = train_images.reshape(-1, 28, 28, 1).astype(\"float32\") / 255.0\n",
    "test_images = test_images.reshape(-1, 28, 28, 1).astype(\"float32\") / 255.0\n",
    "\n",
    "# Pad the images to size 32x32\n",
    "train_images = tf.pad(train_images, [[0, 0], [2, 2], [2, 2], [0, 0]], mode='constant')\n",
    "test_images = tf.pad(test_images, [[0, 0], [2, 2], [2, 2], [0, 0]], mode='constant')\n",
    "\n",
    "# Define the LeNet architecture for 32x32 input size with average pooling and Tanh activation\n",
    "model = models.Sequential([\n",
    "    layers.Conv2D(6, (5, 5), activation='tanh', input_shape=(32, 32, 1)),\n",
    "    layers.AveragePooling2D((2, 2)),\n",
    "    layers.Conv2D(16, (5, 5), activation='tanh'),\n",
    "    layers.AveragePooling2D((2, 2)),\n",
    "    layers.Conv2D(120, (5, 5), activation='tanh'),\n",
    "    layers.Flatten(),\n",
    "    layers.Dense(84, activation='tanh'),\n",
    "    layers.Dense(10, activation='softmax')\n",
    "])\n",
    "\n",
    "# Compile the model\n",
    "model.compile(optimizer='adam', loss='sparse_categorical_crossentropy', metrics=['accuracy'])\n",
    "\n",
    "# Train the model\n",
    "model.fit(train_images, train_labels, epochs=5, batch_size=64, validation_data=(test_images, test_labels))\n",
    "\n",
    "# Evaluate and print accuracy\n",
    "test_loss, test_accuracy = model.evaluate(test_images, test_labels)\n",
    "print(f'Test accuracy: {test_accuracy}')\n"
   ]
  }
 ],
 "metadata": {
  "kernelspec": {
   "display_name": "Python 3",
   "language": "python",
   "name": "python3"
  },
  "language_info": {
   "codemirror_mode": {
    "name": "ipython",
    "version": 3
   },
   "file_extension": ".py",
   "mimetype": "text/x-python",
   "name": "python",
   "nbconvert_exporter": "python",
   "pygments_lexer": "ipython3",
   "version": "3.11.0"
  }
 },
 "nbformat": 4,
 "nbformat_minor": 2
}
